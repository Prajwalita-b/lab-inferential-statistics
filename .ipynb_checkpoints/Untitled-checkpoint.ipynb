{
 "cells": [
  {
   "cell_type": "markdown",
   "id": "eaef62a9",
   "metadata": {},
   "source": [
    "Null Hypothesis H0: no statistically significant difference between population & sample mean\n",
    "\n",
    "Alternate Hypothesis H1: Population and sample mean difference is statistically significant"
   ]
  },
  {
   "cell_type": "code",
   "execution_count": 1,
   "id": "5e82551a",
   "metadata": {},
   "outputs": [
    {
     "data": {
      "text/plain": [
       "4.761904761904759"
      ]
     },
     "execution_count": 1,
     "metadata": {},
     "output_type": "execute_result"
    }
   ],
   "source": [
    "import math\n",
    "\n",
    "sample_mean = 130.1\n",
    "pop_mean = 120\n",
    "pop_std = 21.21\n",
    "n = 100\n",
    "\n",
    "statistic = (sample_mean - pop_mean)/(pop_std/math.sqrt(n))\n",
    "statistic"
   ]
  },
  {
   "cell_type": "markdown",
   "id": "01f2657f",
   "metadata": {},
   "source": [
    "As per t-table, the sample is statistically different at 99.9% confidence level"
   ]
  },
  {
   "cell_type": "code",
   "execution_count": null,
   "id": "4debf196",
   "metadata": {},
   "outputs": [],
   "source": []
  }
 ],
 "metadata": {
  "kernelspec": {
   "display_name": "Python 3 (ipykernel)",
   "language": "python",
   "name": "python3"
  },
  "language_info": {
   "codemirror_mode": {
    "name": "ipython",
    "version": 3
   },
   "file_extension": ".py",
   "mimetype": "text/x-python",
   "name": "python",
   "nbconvert_exporter": "python",
   "pygments_lexer": "ipython3",
   "version": "3.9.15"
  }
 },
 "nbformat": 4,
 "nbformat_minor": 5
}
